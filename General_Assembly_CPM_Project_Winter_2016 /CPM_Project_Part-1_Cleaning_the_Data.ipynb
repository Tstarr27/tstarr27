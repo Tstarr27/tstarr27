{
 "cells": [
  {
   "cell_type": "markdown",
   "metadata": {},
   "source": [
    "Let's do this thing!\n",
    "\n",
    "Goal: Create more features for the FB export\n",
    "\n",
    "Function List:\n",
    "\n",
    "--> historic_spend(data_frame, col_Date, col_Cost, col_Ad_set_ID)\n",
    "Takes a data frame and some columns, calculates the historic spend for an adset and returns the dataframe with a new column called \"historic spend\" containing the historic spend\n",
    "\n",
    "--> historic_imp(data_frame, col_Date, col_Imp, col_Ad_set_ID)\n",
    "Takes a data frame and some columns, calculates the historic impressions for an adset and returns the dataframe with a new column called \"historic Impressions\" containing the historic spend\n",
    "\n",
    "--> historic_reach(data_frame, col_Date, col_Reach, col_Ad_set_ID)\n",
    "Takes a data frame and some columns, calculates the historic reach for an adset and returns the dataframe with a new column called \"historic reach\" containing the historic spend\n",
    "\n",
    "--> day_of_year(data_frame, col_Date)\n",
    "Takes a data frame and the column header for the date row, returns the dataframe back with a new column with the day of the year\n",
    "\n",
    "--> day_of_week(data_frame, col_Date)\n",
    "Takes a data frame and the column header for the date row, returns the dataframe back with a new column with the day of the week\n",
    "\n",
    "--> get_cpm(df, col_Spend, col_Imp)\n",
    "Takes a data frame and the column names for the spend column and the impressions columns. Then calculates CPM and creates a new column in the data frame for CPM\n",
    "\n",
    "\n",
    "--> bid_dummies(df, col_bid_type)\n",
    "Takes a data frame and the column header for bid type. Uses get dummies on the bid type and combines the get dummies table to the original data frame. Then returns that combined dataframe\n",
    "\n",
    "\n",
    "--> adset_age(df, col_Date, col_Ad_Set_Id)\n",
    "Takes a df, column name for date, column name for the adset id, counts the number of days each adset has been running for, makes an array of all the adsets ages, adds that array of ages to the df in a column named \"Ad Set Age\"\n",
    "\n"
   ]
  },
  {
   "cell_type": "code",
   "execution_count": 1,
   "metadata": {
    "collapsed": true
   },
   "outputs": [],
   "source": [
    "#Import Pandas and Numpy\n",
    "import pandas as pd\n",
    "import numpy as np"
   ]
  },
  {
   "cell_type": "raw",
   "metadata": {
    "collapsed": false
   },
   "source": [
    "#open CSV\n",
    "#df = pd.read_csv('/Desktop/DS_BOS_07_Students/TylerStarr/CPM Project/R&D/Master_CPM_data_12.23.15.csv')\n",
    "\n",
    "#df.head()\n",
    "#Check if Kernel is Running\n",
    "print \"are you alive?\""
   ]
  },
  {
   "cell_type": "raw",
   "metadata": {
    "collapsed": false
   },
   "source": [
    "print df.columns\n",
    "print old_df.columns"
   ]
  },
  {
   "cell_type": "code",
   "execution_count": 47,
   "metadata": {
    "collapsed": false
   },
   "outputs": [
    {
     "name": "stdout",
     "output_type": "stream",
     "text": [
      "Reporting Starts\n"
     ]
    }
   ],
   "source": [
    "#What is first column\n",
    "print df.columns[0]\n"
   ]
  },
  {
   "cell_type": "code",
   "execution_count": 2,
   "metadata": {
    "collapsed": false
   },
   "outputs": [],
   "source": [
    "#better_col_names = {\"Amount Spent (USD)\":\"Spent\",\"Reporting Starts\": \"Date\",'﻿\"Ad Set Name\"': \"Ad Set Name\"}\n",
    "better_col_names = {\"Amount Spent (USD)\":\"Spent\",\"Reporting Starts\": \"Date\"}\n",
    "\n",
    "#df = df.rename(columns=better_col_names)\n",
    "#df.head()"
   ]
  },
  {
   "cell_type": "code",
   "execution_count": 35,
   "metadata": {
    "collapsed": false
   },
   "outputs": [
    {
     "name": "stdout",
     "output_type": "stream",
     "text": [
      "(100, 22)\n"
     ]
    }
   ],
   "source": [
    "more_reasonable_df = df[:100]\n",
    "more_reasonable_df.head()\n",
    "print more_reasonable_df.shape"
   ]
  },
  {
   "cell_type": "code",
   "execution_count": 14,
   "metadata": {
    "collapsed": false
   },
   "outputs": [],
   "source": [
    "def historic_spend(data_frame, col_Date, col_Cost, col_Ad_set_ID):\n",
    "    print \"Historic Spend\"\n",
    "    x_date = 0\n",
    "    x_Cost = 0\n",
    "    x_Adset_ID = \"\"\n",
    "    hist_spend = []\n",
    "    num_of_rows = xrange(len(data_frame[col_Date]))\n",
    "    for adset in num_of_rows:\n",
    "        for count in num_of_rows:\n",
    "            if data_frame[col_Date].iloc[count] > data_frame[col_Date].iloc[adset]:\n",
    "                break\n",
    "            elif data_frame[col_Date].iloc[count] < data_frame[col_Date].iloc[adset]:\n",
    "                if data_frame[col_Ad_set_ID].iloc[count] == data_frame[col_Ad_set_ID].iloc[adset]:\n",
    "                    x_Cost += data_frame[col_Cost].iloc[count]\n",
    "        hist_spend.append(x_Cost)   \n",
    "    #Check length of array to data_frame shape\n",
    "    print len(hist_spend)\n",
    "    print data_frame.shape\n",
    "    data_frame['Historic Spend'] = hist_spend\n",
    "    data_frame.head()\n",
    "\n",
    "#historic_spend(df, \"Date\", \"Spent\", \"Ad Set ID\")\n",
    "#df['Date'].iloc[1]\n",
    "\n",
    "#for i in xrange(len(df['Date'])):\n",
    "#    print i"
   ]
  },
  {
   "cell_type": "code",
   "execution_count": 49,
   "metadata": {
    "collapsed": false
   },
   "outputs": [
    {
     "name": "stdout",
     "output_type": "stream",
     "text": [
      "2015-12-01 00:00:00\n",
      "335\n"
     ]
    }
   ],
   "source": [
    "from datetime import datetime\n",
    "day_test = '2015-12-01'\n",
    "print datetime.strptime(day_test, '%Y-%m-%d')\n",
    "print datetime.strptime(day_test, '%Y-%m-%d').strftime('%j')"
   ]
  },
  {
   "cell_type": "markdown",
   "metadata": {},
   "source": [
    "Date Time Documenation\n",
    "https://docs.python.org/2/library/datetime.html#strftime-and-strptime-behavior\n"
   ]
  },
  {
   "cell_type": "code",
   "execution_count": 3,
   "metadata": {
    "collapsed": false
   },
   "outputs": [],
   "source": [
    "def day_of_year(dataframe, col_Date):\n",
    "    print \"Day of Year\"\n",
    "    df['Day of Year']= dataframe[col_Date].map(lambda x: datetime.strptime(str(x), '%m/%d/%y').strftime('%j'))\n",
    "    \n"
   ]
  },
  {
   "cell_type": "code",
   "execution_count": 4,
   "metadata": {
    "collapsed": false
   },
   "outputs": [],
   "source": [
    "def day_of_week(dataframe, col_Date):\n",
    "    print \"Day of Week\"\n",
    "    df['Day of Week']= dataframe[col_Date].map(lambda x: datetime.strptime(str(x), '%m/%d/%y').strftime('%w'))\n",
    "    "
   ]
  },
  {
   "cell_type": "code",
   "execution_count": 15,
   "metadata": {
    "collapsed": false
   },
   "outputs": [],
   "source": [
    "def historic_imp(data_frame, col_Date, col_Imp, col_Ad_set_ID):\n",
    "    print \"Historic Impressions\"\n",
    "    x_date = 0\n",
    "    x_Imp = 0\n",
    "    x_Adset_ID = \"\"\n",
    "    hist_data = []\n",
    "    num_of_rows = xrange(len(data_frame[col_Date]))\n",
    "    for adset in num_of_rows:\n",
    "        for count in num_of_rows:\n",
    "            if data_frame[col_Date].iloc[count] > data_frame[col_Date].iloc[adset]:\n",
    "                break\n",
    "            elif data_frame[col_Date].iloc[count] < data_frame[col_Date].iloc[adset]:\n",
    "                if data_frame[col_Ad_set_ID].iloc[count] == data_frame[col_Ad_set_ID].iloc[adset]:\n",
    "                    x_Imp += data_frame[col_Imp].iloc[count]\n",
    "        hist_data.append(x_Imp)   \n",
    "    data_frame['Historic Impressions'] = hist_data\n",
    "    data_frame.head()\n"
   ]
  },
  {
   "cell_type": "code",
   "execution_count": 6,
   "metadata": {
    "collapsed": false
   },
   "outputs": [],
   "source": [
    "def historic_reach(data_frame, col_Date, col_Reach, col_Ad_set_ID):\n",
    "    print \"Historic Reach\"\n",
    "    x_date = 0\n",
    "    x_Reach = 0\n",
    "    x_Adset_ID = \"\"\n",
    "    hist_data = []\n",
    "    num_of_rows = xrange(len(data_frame[col_Date]))\n",
    "    for adset in num_of_rows:\n",
    "        for count in num_of_rows:\n",
    "            if data_frame[col_Date].iloc[count] > data_frame[col_Date].iloc[adset]:\n",
    "                break\n",
    "            elif data_frame[col_Date].iloc[count] < data_frame[col_Date].iloc[adset]:\n",
    "                if data_frame[col_Ad_set_ID].iloc[count] == data_frame[col_Ad_set_ID].iloc[adset]:\n",
    "                    x_Reach += data_frame[col_Reach].iloc[count]\n",
    "        hist_data.append(x_Reach)   \n",
    "    data_frame['Historic Reach'] = hist_data\n",
    "    data_frame.head()\n"
   ]
  },
  {
   "cell_type": "code",
   "execution_count": 7,
   "metadata": {
    "collapsed": false
   },
   "outputs": [
    {
     "ename": "NameError",
     "evalue": "name 'df' is not defined",
     "output_type": "error",
     "traceback": [
      "\u001b[0;31m---------------------------------------------------------------------------\u001b[0m",
      "\u001b[0;31mNameError\u001b[0m                                 Traceback (most recent call last)",
      "\u001b[0;32m<ipython-input-7-d74d69d300e5>\u001b[0m in \u001b[0;36m<module>\u001b[0;34m()\u001b[0m\n\u001b[0;32m----> 1\u001b[0;31m \u001b[0mt_cpm\u001b[0m \u001b[0;34m=\u001b[0m \u001b[0;34m(\u001b[0m\u001b[0;34m(\u001b[0m\u001b[0mdf\u001b[0m\u001b[0;34m[\u001b[0m\u001b[0;34m\"Spent\"\u001b[0m\u001b[0;34m]\u001b[0m\u001b[0;34m/\u001b[0m\u001b[0mdf\u001b[0m\u001b[0;34m[\u001b[0m\u001b[0;34m\"Impressions\"\u001b[0m\u001b[0;34m]\u001b[0m\u001b[0;34m)\u001b[0m\u001b[0;34m*\u001b[0m\u001b[0;36m1000\u001b[0m\u001b[0;34m)\u001b[0m\u001b[0;34m\u001b[0m\u001b[0m\n\u001b[0m\u001b[1;32m      2\u001b[0m \u001b[0;31m#print t_cpm\u001b[0m\u001b[0;34m\u001b[0m\u001b[0;34m\u001b[0m\u001b[0m\n",
      "\u001b[0;31mNameError\u001b[0m: name 'df' is not defined"
     ]
    }
   ],
   "source": [
    "#Calculate CPM\n",
    "\n",
    "t_cpm = ((df[\"Spent\"]/df[\"Impressions\"])*1000)"
   ]
  },
  {
   "cell_type": "code",
   "execution_count": 8,
   "metadata": {
    "collapsed": false
   },
   "outputs": [],
   "source": [
    "def get_cpm(df, col_Spend, col_Imp):\n",
    "    print \"get_cpm\"\n",
    "    t_cpm = ((df[col_Spend]/df[col_Imp])*1000)\n",
    "    df[\"CPM\"] = t_cpm\n",
    "    "
   ]
  },
  {
   "cell_type": "code",
   "execution_count": 60,
   "metadata": {
    "collapsed": false
   },
   "outputs": [
    {
     "data": {
      "text/plain": [
       "Index([u'Date', u'Reporting Ends', u'Ad Set Name', u'Delivery', u'Results',\n",
       "       u'Result Type', u'Reach', u'Cost per Result (USD)', u'Budget',\n",
       "       u'Budget Type', u'Spent', u'Ends', u'Starts', u'Impressions',\n",
       "       u'Clicks (All)', u'Unique Clicks (All)', u'Bid', u'Bid Type',\n",
       "       u'Account ID', u'Campaign ID', u'Campaign Name', u'Ad Set ID',\n",
       "       u'Day of Year', u'Day of Week', u'CPM'],\n",
       "      dtype='object')"
      ]
     },
     "execution_count": 60,
     "metadata": {},
     "output_type": "execute_result"
    }
   ],
   "source": [
    "df.columns"
   ]
  },
  {
   "cell_type": "code",
   "execution_count": 61,
   "metadata": {
    "collapsed": false
   },
   "outputs": [],
   "source": [
    "dum_df = pd.get_dummies(df['Bid Type'], prefix = 'Bid Type: ')"
   ]
  },
  {
   "cell_type": "code",
   "execution_count": 62,
   "metadata": {
    "collapsed": false
   },
   "outputs": [
    {
     "data": {
      "text/html": [
       "<div>\n",
       "<table border=\"1\" class=\"dataframe\">\n",
       "  <thead>\n",
       "    <tr style=\"text-align: right;\">\n",
       "      <th></th>\n",
       "      <th>Bid Type: _ABSOLUTE_OCPM</th>\n",
       "      <th>Bid Type: _CPA</th>\n",
       "      <th>Bid Type: _CPC</th>\n",
       "      <th>Bid Type: _CPM</th>\n",
       "    </tr>\n",
       "  </thead>\n",
       "  <tbody>\n",
       "    <tr>\n",
       "      <th>0</th>\n",
       "      <td>1</td>\n",
       "      <td>0</td>\n",
       "      <td>0</td>\n",
       "      <td>0</td>\n",
       "    </tr>\n",
       "    <tr>\n",
       "      <th>1</th>\n",
       "      <td>1</td>\n",
       "      <td>0</td>\n",
       "      <td>0</td>\n",
       "      <td>0</td>\n",
       "    </tr>\n",
       "    <tr>\n",
       "      <th>2</th>\n",
       "      <td>1</td>\n",
       "      <td>0</td>\n",
       "      <td>0</td>\n",
       "      <td>0</td>\n",
       "    </tr>\n",
       "    <tr>\n",
       "      <th>3</th>\n",
       "      <td>1</td>\n",
       "      <td>0</td>\n",
       "      <td>0</td>\n",
       "      <td>0</td>\n",
       "    </tr>\n",
       "    <tr>\n",
       "      <th>4</th>\n",
       "      <td>1</td>\n",
       "      <td>0</td>\n",
       "      <td>0</td>\n",
       "      <td>0</td>\n",
       "    </tr>\n",
       "  </tbody>\n",
       "</table>\n",
       "</div>"
      ],
      "text/plain": [
       "   Bid Type: _ABSOLUTE_OCPM  Bid Type: _CPA  Bid Type: _CPC  Bid Type: _CPM\n",
       "0                         1               0               0               0\n",
       "1                         1               0               0               0\n",
       "2                         1               0               0               0\n",
       "3                         1               0               0               0\n",
       "4                         1               0               0               0"
      ]
     },
     "execution_count": 62,
     "metadata": {},
     "output_type": "execute_result"
    }
   ],
   "source": [
    "dum_df.head()"
   ]
  },
  {
   "cell_type": "code",
   "execution_count": 63,
   "metadata": {
    "collapsed": false
   },
   "outputs": [
    {
     "name": "stdout",
     "output_type": "stream",
     "text": [
      "bid_dummies\n"
     ]
    }
   ],
   "source": [
    "def bid_dummies(df, col_bid_type):\n",
    "    print \"bid_dummies\"\n",
    "    dum_df = pd.get_dummies(df[col_bid_type], prefix = 'Bid Type: ')\n",
    "    #print dum_df\n",
    "    return df.join(dum_df)\n",
    "    \n",
    "    \n",
    "df = bid_dummies(df, \"Bid Type\")"
   ]
  },
  {
   "cell_type": "code",
   "execution_count": 10,
   "metadata": {
    "collapsed": false
   },
   "outputs": [],
   "source": [
    "def adset_age(df, col_Date, col_Ad_Set_Id):\n",
    "    print \"adset age\"\n",
    "    ages = []\n",
    "    num_of_rows = xrange(len(df[col_Date]))\n",
    "    print num_of_rows\n",
    "    adset_id = ''\n",
    "    age = 0\n",
    "    df.sort_values(by=col_Date)\n",
    "    \n",
    "    for adset in num_of_rows:\n",
    "        age = 0\n",
    "        for count in num_of_rows:\n",
    "            if df[col_Date].iloc[count] >= df[col_Date].iloc[adset]:\n",
    "                break\n",
    "            else:\n",
    "                if df[col_Ad_Set_Id].iloc[count] == df[col_Ad_Set_Id].iloc[adset]:\n",
    "                    age += 1\n",
    "        ages.append(age)\n",
    "    df['Ad Set Age'] = ages"
   ]
  },
  {
   "cell_type": "code",
   "execution_count": null,
   "metadata": {
    "collapsed": false
   },
   "outputs": [],
   "source": []
  },
  {
   "cell_type": "code",
   "execution_count": 11,
   "metadata": {
    "collapsed": false
   },
   "outputs": [
    {
     "ename": "NameError",
     "evalue": "name 'df' is not defined",
     "output_type": "error",
     "traceback": [
      "\u001b[0;31m---------------------------------------------------------------------------\u001b[0m",
      "\u001b[0;31mNameError\u001b[0m                                 Traceback (most recent call last)",
      "\u001b[0;32m<ipython-input-11-2d5ae13c2ccd>\u001b[0m in \u001b[0;36m<module>\u001b[0;34m()\u001b[0m\n\u001b[1;32m      1\u001b[0m \u001b[0;31m#Practice Running Historic Functions with a smaller data set\u001b[0m\u001b[0;34m\u001b[0m\u001b[0;34m\u001b[0m\u001b[0m\n\u001b[0;32m----> 2\u001b[0;31m \u001b[0mdf_small\u001b[0m \u001b[0;34m=\u001b[0m \u001b[0mdf\u001b[0m\u001b[0;34m[\u001b[0m\u001b[0;34m:\u001b[0m\u001b[0;36m100\u001b[0m\u001b[0;34m]\u001b[0m\u001b[0;34m\u001b[0m\u001b[0m\n\u001b[0m\u001b[1;32m      3\u001b[0m \u001b[0madset_age\u001b[0m\u001b[0;34m(\u001b[0m\u001b[0mdf_small\u001b[0m\u001b[0;34m,\u001b[0m \u001b[0;34m\"Date\"\u001b[0m\u001b[0;34m,\u001b[0m \u001b[0;34m\"Ad Set ID\"\u001b[0m\u001b[0;34m)\u001b[0m\u001b[0;34m\u001b[0m\u001b[0m\n\u001b[1;32m      4\u001b[0m \u001b[0mhistoric_reach\u001b[0m\u001b[0;34m(\u001b[0m\u001b[0mdf_small\u001b[0m\u001b[0;34m,\u001b[0m \u001b[0;34m\"Date\"\u001b[0m\u001b[0;34m,\u001b[0m \u001b[0;34m\"Reach\"\u001b[0m\u001b[0;34m,\u001b[0m \u001b[0;34m\"Ad Set ID\"\u001b[0m\u001b[0;34m)\u001b[0m\u001b[0;34m\u001b[0m\u001b[0m\n\u001b[1;32m      5\u001b[0m \u001b[0mhistoric_imp\u001b[0m\u001b[0;34m(\u001b[0m\u001b[0mdf_small\u001b[0m\u001b[0;34m,\u001b[0m \u001b[0;34m\"Date\"\u001b[0m\u001b[0;34m,\u001b[0m \u001b[0;34m\"Impressions\"\u001b[0m\u001b[0;34m,\u001b[0m \u001b[0;34m\"Ad Set ID\"\u001b[0m\u001b[0;34m)\u001b[0m\u001b[0;34m\u001b[0m\u001b[0m\n",
      "\u001b[0;31mNameError\u001b[0m: name 'df' is not defined"
     ]
    }
   ],
   "source": [
    "#Practice Running Historic Functions with a smaller data set\n",
    "df_small = df[:100]\n",
    "adset_age(df_small, \"Date\", \"Ad Set ID\")\n",
    "historic_reach(df_small, \"Date\", \"Reach\", \"Ad Set ID\")\n",
    "historic_imp(df_small, \"Date\", \"Impressions\", \"Ad Set ID\")\n",
    "historic_spend(df_small, \"Date\", \"Spent\", \"Ad Set ID\")"
   ]
  },
  {
   "cell_type": "code",
   "execution_count": 12,
   "metadata": {
    "collapsed": false
   },
   "outputs": [
    {
     "name": "stdout",
     "output_type": "stream",
     "text": [
      "Running Long Functions:\n"
     ]
    },
    {
     "ename": "NameError",
     "evalue": "name 'df' is not defined",
     "output_type": "error",
     "traceback": [
      "\u001b[0;31m---------------------------------------------------------------------------\u001b[0m",
      "\u001b[0;31mNameError\u001b[0m                                 Traceback (most recent call last)",
      "\u001b[0;32m<ipython-input-12-52c5d9ce2354>\u001b[0m in \u001b[0;36m<module>\u001b[0;34m()\u001b[0m\n\u001b[1;32m      1\u001b[0m \u001b[0;32mprint\u001b[0m \u001b[0;34m\"Running Long Functions:\"\u001b[0m\u001b[0;34m\u001b[0m\u001b[0m\n\u001b[0;32m----> 2\u001b[0;31m \u001b[0madset_age\u001b[0m\u001b[0;34m(\u001b[0m\u001b[0mdf\u001b[0m\u001b[0;34m,\u001b[0m \u001b[0;34m\"Date\"\u001b[0m\u001b[0;34m,\u001b[0m \u001b[0;34m\"Ad Set ID\"\u001b[0m\u001b[0;34m)\u001b[0m\u001b[0;34m\u001b[0m\u001b[0m\n\u001b[0m\u001b[1;32m      3\u001b[0m \u001b[0;32mprint\u001b[0m \u001b[0;34m\"Adset Age Complete\"\u001b[0m\u001b[0;34m\u001b[0m\u001b[0m\n\u001b[1;32m      4\u001b[0m \u001b[0mhistoric_reach\u001b[0m\u001b[0;34m(\u001b[0m\u001b[0mdf\u001b[0m\u001b[0;34m,\u001b[0m \u001b[0;34m\"Date\"\u001b[0m\u001b[0;34m,\u001b[0m \u001b[0;34m\"Reach\"\u001b[0m\u001b[0;34m,\u001b[0m \u001b[0;34m\"Ad Set ID\"\u001b[0m\u001b[0;34m)\u001b[0m\u001b[0;34m\u001b[0m\u001b[0m\n\u001b[1;32m      5\u001b[0m \u001b[0;32mprint\u001b[0m \u001b[0;34m\"Historic Reach Complete\"\u001b[0m\u001b[0;34m\u001b[0m\u001b[0m\n",
      "\u001b[0;31mNameError\u001b[0m: name 'df' is not defined"
     ]
    }
   ],
   "source": [
    "print \"Running Long Functions:\"\n",
    "adset_age(df, \"Date\", \"Ad Set ID\")\n",
    "print \"Adset Age Complete\"\n",
    "historic_reach(df, \"Date\", \"Reach\", \"Ad Set ID\")\n",
    "print \"Historic Reach Complete\"\n",
    "historic_imp(df, \"Date\", \"Impressions\", \"Ad Set ID\")\n",
    "print \"Historic Imp Complete\"\n",
    "historic_spend(df, \"Date\", \"Spent\", \"Ad Set ID\")\n",
    "print \"Historic Spend Complete\""
   ]
  },
  {
   "cell_type": "code",
   "execution_count": 109,
   "metadata": {
    "collapsed": false
   },
   "outputs": [],
   "source": []
  },
  {
   "cell_type": "code",
   "execution_count": 110,
   "metadata": {
    "collapsed": true
   },
   "outputs": [],
   "source": [
    "#Save Modified data to new CSV\n",
    "df.to_csv('Cleaned_data_12.25.15.csv')"
   ]
  },
  {
   "cell_type": "code",
   "execution_count": null,
   "metadata": {
    "collapsed": true
   },
   "outputs": [],
   "source": []
  }
 ],
 "metadata": {
  "kernelspec": {
   "display_name": "Python 2",
   "language": "python",
   "name": "python2"
  },
  "language_info": {
   "codemirror_mode": {
    "name": "ipython",
    "version": 2
   },
   "file_extension": ".py",
   "mimetype": "text/x-python",
   "name": "python",
   "nbconvert_exporter": "python",
   "pygments_lexer": "ipython2",
   "version": "2.7.10"
  }
 },
 "nbformat": 4,
 "nbformat_minor": 0
}
